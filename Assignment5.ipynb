{
 "cells": [
  {
   "cell_type": "code",
   "execution_count": 1,
   "id": "3338c600",
   "metadata": {},
   "outputs": [],
   "source": [
    "import numpy as np\n",
    "import sympy as sp\n",
    "from IPython.display import display"
   ]
  },
  {
   "cell_type": "markdown",
   "id": "27d8c034",
   "metadata": {},
   "source": [
    "Consider an affine model of an incompressible network with polydisperse \n",
    "strands between crosslinks. Prove that the stress o in this network due to uniaxial extension still follows the classical dependence on deformation lam [Eqs (7.32) and (7.33)].\n",
    "Which average molar mass of network strands enters into Eq. (7.31) for the network modulus."
   ]
  },
  {
   "cell_type": "code",
   "execution_count": null,
   "id": "37188109",
   "metadata": {},
   "outputs": [],
   "source": []
  },
  {
   "cell_type": "code",
   "execution_count": 62,
   "id": "56301512",
   "metadata": {},
   "outputs": [
    {
     "data": {
      "text/latex": [
       "$\\displaystyle \\lambda_{1} = \\frac{L_{\\rho} - L_{o}}{L_{o}}$"
      ],
      "text/plain": [
       "Eq(\\lambda_{1}, (L_{\\rho} - L_{o})/L_{o})"
      ]
     },
     "metadata": {},
     "output_type": "display_data"
    },
    {
     "name": "stdout",
     "output_type": "stream",
     "text": [
      "in cm\n"
     ]
    },
    {
     "data": {
      "text/latex": [
       "$\\displaystyle \\lambda_{1} = 3$"
      ],
      "text/plain": [
       "Eq(\\lambda_{1}, 3)"
      ]
     },
     "metadata": {},
     "output_type": "display_data"
    },
    {
     "data": {
      "text/latex": [
       "$\\displaystyle \\sigma_{1} = R T \\nu_{1} \\left(\\lambda_{1} - \\frac{1}{\\lambda_{1}^{2}}\\right)$"
      ],
      "text/plain": [
       "Eq(\\sigma_{1}, R*T*\\nu_{1}*(\\lambda_{1} - 1/\\lambda_{1}**2))"
      ]
     },
     "metadata": {},
     "output_type": "display_data"
    },
    {
     "data": {
      "text/latex": [
       "$\\displaystyle \\nu_{1} = \\frac{\\sigma_{1}}{R T \\left(\\lambda_{1} - \\frac{1}{\\lambda_{1}^{2}}\\right)}$"
      ],
      "text/plain": [
       "Eq(\\nu_{1}, \\sigma_{1}/(R*T*(\\lambda_{1} - 1/\\lambda_{1}**2)))"
      ]
     },
     "metadata": {},
     "output_type": "display_data"
    },
    {
     "name": "stdout",
     "output_type": "stream",
     "text": [
      "in units of mol/cm^3\n"
     ]
    },
    {
     "data": {
      "text/latex": [
       "$\\displaystyle \\nu_{1} = 0.000284198326728669$"
      ],
      "text/plain": [
       "Eq(\\nu_{1}, 0.000284198326728669)"
      ]
     },
     "metadata": {},
     "output_type": "display_data"
    },
    {
     "name": "stdout",
     "output_type": "stream",
     "text": [
      "The number average Molar Mass is 3518.669555555561 g/mol\n",
      "\n",
      "Young's modulus\n"
     ]
    },
    {
     "data": {
      "text/latex": [
       "$\\displaystyle E = 3 R T \\nu_{1}$"
      ],
      "text/plain": [
       "Eq(E, 3*R*T*\\nu_{1})"
      ]
     },
     "metadata": {},
     "output_type": "display_data"
    },
    {
     "data": {
      "text/latex": [
       "$\\displaystyle m_{1} = \\frac{A \\lambda_{1} \\sigma_{1}}{g}$"
      ],
      "text/plain": [
       "Eq(m_{1}, A*\\lambda_{1}*\\sigma_{1}/g)"
      ]
     },
     "metadata": {},
     "output_type": "display_data"
    },
    {
     "name": "stdout",
     "output_type": "stream",
     "text": [
      "in grams\n"
     ]
    },
    {
     "data": {
      "text/latex": [
       "$\\displaystyle m_{1} = 2446.48318042813$"
      ],
      "text/plain": [
       "Eq(m_{1}, 2446.48318042813)"
      ]
     },
     "metadata": {},
     "output_type": "display_data"
    },
    {
     "data": {
      "text/latex": [
       "$\\displaystyle \\sigma_{2} = R T \\nu_{1} \\left(\\lambda_{2} - \\frac{1}{\\lambda_{2}^{2}}\\right)$"
      ],
      "text/plain": [
       "Eq(\\sigma_{2}, R*T*\\nu_{1}*(\\lambda_{2} - 1/\\lambda_{2}**2))"
      ]
     },
     "metadata": {},
     "output_type": "display_data"
    },
    {
     "name": "stdout",
     "output_type": "stream",
     "text": [
      "in dyn/cm^2\n"
     ]
    },
    {
     "data": {
      "text/latex": [
       "$\\displaystyle \\sigma_{2} = 12115384.6153846$"
      ],
      "text/plain": [
       "Eq(\\sigma_{2}, 12115384.6153846)"
      ]
     },
     "metadata": {},
     "output_type": "display_data"
    },
    {
     "data": {
      "text/latex": [
       "$\\displaystyle 0 = R T \\nu_{1} \\left(- \\frac{A^{2} \\sigma_{2}^{2}}{g^{2} m_{2}^{2}} + \\frac{g m_{2}}{A \\sigma_{2}}\\right) - \\sigma_{2}$"
      ],
      "text/plain": [
       "Eq(0, R*T*\\nu_{1}*(-A**2*\\sigma_{2}**2/(g**2*m_{2}**2) + g*m_{2}/(A*\\sigma_{2})) - \\sigma_{2})"
      ]
     },
     "metadata": {},
     "output_type": "display_data"
    },
    {
     "name": "stdout",
     "output_type": "stream",
     "text": [
      "Mass required to develope stess of 12115384.6153846 at 50C is :925.0804188263834 grams\n"
     ]
    }
   ],
   "source": [
    "lam1 = sp.Symbol(r\"\\lambda_{1}\")\n",
    "lam2 = sp.Symbol(r\"\\lambda_{2}\")\n",
    "sigma1 = sp.Symbol(r\"\\sigma_{1}\")\n",
    "sigma2 = sp.Symbol(r\"\\sigma_{2}\")\n",
    "nu1 = sp.Symbol(r\"\\nu_{1}\")\n",
    "Lp = sp.Symbol(r\"L_{\\rho}\")\n",
    "Lo = sp.Symbol(\"L_{o}\")\n",
    "T,R = sp.symbols(\"T,R\", postive = True)\n",
    "m1 = sp.Symbol(\"m_{1}\")\n",
    "m2 = sp.Symbol(\"m_{2}\")\n",
    "A = sp.Symbol(\"A\")\n",
    "g = sp.Symbol(\"g\")\n",
    "E = sp.Symbol(\"E\")\n",
    "lam1_eq1 = (Lp-Lo)/Lo\n",
    "display(sp.Eq(lam1,lam1_eq1))\n",
    "print(\"in cm\")\n",
    "display(sp.Eq(lam1,lam1_eq1.subs({Lp:40,Lo:10})))\n",
    "sigma1_eq1 = R*T*nu1*(lam1-(1/sp.Pow(lam1,2)))\n",
    "display(sp.Eq(sigma1,sigma1_eq1))\n",
    "nu1_eq1 = sigma1/(R*T*(lam1 - (1/sp.Pow(lam1,2))))\n",
    "display(sp.Eq(nu1,nu1_eq1))\n",
    "print(\"in units of mol/cm^3\")\n",
    "display(sp.Eq(nu1,nu1_eq1.subs({sigma1:2e7,R:8.314e7, lam1:3, T: 293})))\n",
    "print(f\"The number average Molar Mass is {1/0.000284198326728669} g/mol\")\n",
    "E_eq1 = 3*nu1*R*T\n",
    "print(\"\\nYoung's modulus\")\n",
    "display(sp.Eq(E,E_eq1))\n",
    "m1_eq1 = (lam1*A*sigma1)/g\n",
    "display(sp.Eq(m1,m1_eq1))\n",
    "print(\"in grams\")\n",
    "display(sp.Eq(m1,m1_eq1.subs({A:0.04,lam1:3,sigma1:2e7, g:9.81e2})))\n",
    "sigma2_eq1 = nu1*R*T*(lam2 - (1/sp.Pow(lam2,2)))\n",
    "display(sp.Eq(sigma2, sigma2_eq1))\n",
    "print(\"in dyn/cm^2\")\n",
    "display(sp.Eq(sigma2, sigma2_eq1.subs({nu1:0.000284198326728669,R:8.314e7,T:293,lam2:2})))\n",
    "eq = sigma2_eq1.subs(lam2,(m2*g)/(A*sigma2)) - sigma2\n",
    "display(sp.Eq(0,eq))\n",
    "mass_req = float(sp.solve(eq.subs({sigma2:12115384.6153846, g : 9.81e2, A:.04,R:8.314e7,T:273+50, nu1:0.000284198326728669}),m2)[0])\n",
    "print(f\"Mass required to develope stess of 12115384.6153846 at 50C is :{mass_req} grams\")"
   ]
  },
  {
   "cell_type": "markdown",
   "id": "40adeeb8",
   "metadata": {},
   "source": [
    "What is the molecular origin of strain hardening at large elongations of \n",
    "polymeric networks that do  not crystallize on stretching?"
   ]
  },
  {
   "cell_type": "markdown",
   "id": "8f19b82f",
   "metadata": {},
   "source": [
    " # strain hardening comes from the collective allignment and orientation of bond vectors in the polymer in the direction of the load which increases the stiffness and strength in that direction."
   ]
  },
  {
   "cell_type": "markdown",
   "id": "4094b635",
   "metadata": {},
   "source": [
    "Estimate the average number of monomers in a network strand for gels \n",
    "prepared in the dry state and swollen to equilibrium in a theta-solvent with ...\n",
    "Q = 2,4"
   ]
  },
  {
   "cell_type": "code",
   "execution_count": 3,
   "id": "433f2be8",
   "metadata": {},
   "outputs": [
    {
     "name": "stdout",
     "output_type": "stream",
     "text": [
      "The average number of monomers when Q = 2 is : 6.3496042078727974\n",
      "The average number of monomers when Q = 4 is : 40.317473596635935\n"
     ]
    }
   ],
   "source": [
    "fxn = lambda x:np.power(x,8/3)\n",
    "for i in [2,4]:\n",
    "    print(f\"The average number of monomers when Q = {i} is : {fxn(i)}\")"
   ]
  }
 ],
 "metadata": {
  "kernelspec": {
   "display_name": "Python 3 (ipykernel)",
   "language": "python",
   "name": "python3"
  },
  "language_info": {
   "codemirror_mode": {
    "name": "ipython",
    "version": 3
   },
   "file_extension": ".py",
   "mimetype": "text/x-python",
   "name": "python",
   "nbconvert_exporter": "python",
   "pygments_lexer": "ipython3",
   "version": "3.8.0"
  }
 },
 "nbformat": 4,
 "nbformat_minor": 5
}
