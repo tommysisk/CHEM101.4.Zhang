{
 "cells": [
  {
   "cell_type": "code",
   "execution_count": 2,
   "id": "74f78cfe",
   "metadata": {},
   "outputs": [],
   "source": [
    "import numpy as np\n",
    "import sympy as sp\n",
    "from IPython.display import display"
   ]
  },
  {
   "cell_type": "markdown",
   "id": "5312ddf0",
   "metadata": {},
   "source": [
    "Consider an affine model of an incompressible network with polydisperse \n",
    "strands between crosslinks. Prove that the stress in this network due to uniaxial extension still follows the classical dependence on deformation lam [Eqs (7.32) and (7.33)].\n",
    "Which average molar mass of network strands enters into Eq. (7.31) for the network modulus."
   ]
  },
  {
   "cell_type": "markdown",
   "id": "7f1d3eff",
   "metadata": {},
   "source": [
    " # In the affine model, it is assumed that each polymer strand is stretched by the same amount. Given that the free energy is proportional to \n",
    " # kT*R^2/Nb^2\n",
    " # we see that the chain lengths essentially cancel out in this expression. From this, we can say that the polydisperse network follows classical dependence on the deformation due to the approximation made in the affine model that every chain will be streched by the same amount and each will contribute ~kT to the free energy. \n",
    " \n",
    " # part 2) The number average molar mass is more appropriate because the network modulus is a function of the volume and can bet written as a function of the number density. Thus, the weight averaged molar mass doesn't make sense to use, here. "
   ]
  },
  {
   "cell_type": "code",
   "execution_count": 13,
   "id": "ac6b986c",
   "metadata": {},
   "outputs": [
    {
     "data": {
      "text/latex": [
       "$\\displaystyle \\lambda_{1} = \\frac{L_{\\rho}}{L_{o}}$"
      ],
      "text/plain": [
       "Eq(\\lambda_{1}, L_{\\rho}/L_{o})"
      ]
     },
     "metadata": {},
     "output_type": "display_data"
    },
    {
     "name": "stdout",
     "output_type": "stream",
     "text": [
      "in cm\n"
     ]
    },
    {
     "data": {
      "text/latex": [
       "$\\displaystyle \\lambda_{1} = 4$"
      ],
      "text/plain": [
       "Eq(\\lambda_{1}, 4)"
      ]
     },
     "metadata": {},
     "output_type": "display_data"
    },
    {
     "data": {
      "text/latex": [
       "$\\displaystyle \\sigma_{1} = R T \\nu_{1} \\left(\\lambda_{1} - \\frac{1}{\\lambda_{1}^{2}}\\right)$"
      ],
      "text/plain": [
       "Eq(\\sigma_{1}, R*T*\\nu_{1}*(\\lambda_{1} - 1/\\lambda_{1}**2))"
      ]
     },
     "metadata": {},
     "output_type": "display_data"
    },
    {
     "data": {
      "text/latex": [
       "$\\displaystyle \\nu_{1} = \\frac{\\sigma_{1}}{R T \\left(\\lambda_{1} - \\frac{1}{\\lambda_{1}^{2}}\\right)}$"
      ],
      "text/plain": [
       "Eq(\\nu_{1}, \\sigma_{1}/(R*T*(\\lambda_{1} - 1/\\lambda_{1}**2)))"
      ]
     },
     "metadata": {},
     "output_type": "display_data"
    },
    {
     "name": "stdout",
     "output_type": "stream",
     "text": [
      "in units of mol/cm^3\n"
     ]
    },
    {
     "data": {
      "text/latex": [
       "$\\displaystyle \\nu_{1} = 0.000208512352591052$"
      ],
      "text/plain": [
       "Eq(\\nu_{1}, 0.000208512352591052)"
      ]
     },
     "metadata": {},
     "output_type": "display_data"
    },
    {
     "name": "stdout",
     "output_type": "stream",
     "text": [
      "The number average Molar Mass is 4795.878937500001 g/mol\n",
      "\n",
      "Young's modulus\n"
     ]
    },
    {
     "data": {
      "text/latex": [
       "$\\displaystyle E = 3 R T \\nu_{1}$"
      ],
      "text/plain": [
       "Eq(E, 3*R*T*\\nu_{1})"
      ]
     },
     "metadata": {},
     "output_type": "display_data"
    },
    {
     "data": {
      "text/latex": [
       "$\\displaystyle m_{1} = \\frac{A \\sigma_{1}}{g}$"
      ],
      "text/plain": [
       "Eq(m_{1}, A*\\sigma_{1}/g)"
      ]
     },
     "metadata": {},
     "output_type": "display_data"
    },
    {
     "name": "stdout",
     "output_type": "stream",
     "text": [
      "in grams\n"
     ]
    },
    {
     "data": {
      "text/latex": [
       "$\\displaystyle m_{1} = 815.494393476045$"
      ],
      "text/plain": [
       "Eq(m_{1}, 815.494393476045)"
      ]
     },
     "metadata": {},
     "output_type": "display_data"
    },
    {
     "data": {
      "text/latex": [
       "$\\displaystyle \\sigma_{2} = R T \\nu_{1} \\left(\\lambda_{2} - \\frac{1}{\\lambda_{2}^{2}}\\right)$"
      ],
      "text/plain": [
       "Eq(\\sigma_{2}, R*T*\\nu_{1}*(\\lambda_{2} - 1/\\lambda_{2}**2))"
      ]
     },
     "metadata": {},
     "output_type": "display_data"
    },
    {
     "name": "stdout",
     "output_type": "stream",
     "text": [
      "in dyn/cm^2\n"
     ]
    },
    {
     "data": {
      "text/latex": [
       "$\\displaystyle \\sigma_{2} = 14673721.340388$"
      ],
      "text/plain": [
       "Eq(\\sigma_{2}, 14673721.340388)"
      ]
     },
     "metadata": {},
     "output_type": "display_data"
    },
    {
     "data": {
      "text/latex": [
       "$\\displaystyle m_{2} = \\frac{A \\sigma_{2}}{g}$"
      ],
      "text/plain": [
       "Eq(m_{2}, A*\\sigma_{2}/g)"
      ]
     },
     "metadata": {},
     "output_type": "display_data"
    },
    {
     "name": "stdout",
     "output_type": "stream",
     "text": [
      "Mass required to develope stess of 14673721.340388 at 50C is : 598.3168742258105 grams\n"
     ]
    }
   ],
   "source": [
    "lam1 = sp.Symbol(r\"\\lambda_{1}\")\n",
    "lam2 = sp.Symbol(r\"\\lambda_{2}\")\n",
    "sigma1 = sp.Symbol(r\"\\sigma_{1}\")\n",
    "sigma2 = sp.Symbol(r\"\\sigma_{2}\")\n",
    "nu1 = sp.Symbol(r\"\\nu_{1}\")\n",
    "Lp = sp.Symbol(r\"L_{\\rho}\")\n",
    "Lo = sp.Symbol(\"L_{o}\")\n",
    "T,R = sp.symbols(\"T,R\", postive = True)\n",
    "m1 = sp.Symbol(\"m_{1}\")\n",
    "m2 = sp.Symbol(\"m_{2}\")\n",
    "A = sp.Symbol(\"A\")\n",
    "g = sp.Symbol(\"g\")\n",
    "E = sp.Symbol(\"E\")\n",
    "lam1_eq1 = (Lp)/Lo\n",
    "display(sp.Eq(lam1,lam1_eq1))\n",
    "print(\"in cm\")\n",
    "display(sp.Eq(lam1,lam1_eq1.subs({Lp:40,Lo:10})))\n",
    "sigma1_eq1 = R*T*nu1*(lam1-(1/sp.Pow(lam1,2)))\n",
    "display(sp.Eq(sigma1,sigma1_eq1))\n",
    "nu1_eq1 = sigma1/(R*T*(lam1 - (1/sp.Pow(lam1,2))))\n",
    "display(sp.Eq(nu1,nu1_eq1))\n",
    "print(\"in units of mol/cm^3\")\n",
    "display(sp.Eq(nu1,nu1_eq1.subs({sigma1:2e7,R:8.314e7, lam1:4, T: 293})))\n",
    "print(f\"The number average Molar Mass is {1/0.000208512352591052} g/mol\")\n",
    "E_eq1 = 3*nu1*R*T\n",
    "print(\"\\nYoung's modulus\")\n",
    "display(sp.Eq(E,E_eq1))\n",
    "m1_eq1 = (A*sigma1)/g\n",
    "display(sp.Eq(m1,m1_eq1))\n",
    "print(\"in grams\")\n",
    "display(sp.Eq(m1,m1_eq1.subs({A:0.04,sigma1:2e7, g:9.81e2})))\n",
    "sigma2_eq1 = nu1*R*T*(lam2 - (1/sp.Pow(lam2,2)))\n",
    "display(sp.Eq(sigma2, sigma2_eq1))\n",
    "print(\"in dyn/cm^2\")\n",
    "display(sp.Eq(sigma2, sigma2_eq1.subs({nu1:0.000208512352591052,R:8.314e7,T:293,lam2:3})))\n",
    "m2_eq1 = (A*sigma2)/g\n",
    "display(sp.Eq(m2, m2_eq1))\n",
    "mass_req = float(m2_eq1.subs({A:0.04,sigma2:14673721.340388,g:9.81e2}))\n",
    "\n",
    "print(f\"Mass required to develope stess of 14673721.340388 at 50C is : {mass_req} grams\")"
   ]
  },
  {
   "cell_type": "markdown",
   "id": "28870f4a",
   "metadata": {},
   "source": [
    "What is the molecular origin of strain hardening at large elongations of \n",
    "polymeric networks that do  not crystallize on stretching?"
   ]
  },
  {
   "cell_type": "markdown",
   "id": "c5352a6a",
   "metadata": {},
   "source": [
    " # strain hardening comes from the collective allignment and orientation of bond vectors in the polymer in the direction of the load which increases the stiffness and strength in that direction. In simpler terms, the finite extensibility of polymer strands."
   ]
  },
  {
   "cell_type": "markdown",
   "id": "8daec3f3",
   "metadata": {},
   "source": [
    "Estimate the average number of monomers in a network strand for gels \n",
    "prepared in the dry state and swollen to equilibrium in a theta-solvent with ...\n",
    "Q = 2,4"
   ]
  },
  {
   "cell_type": "code",
   "execution_count": 3,
   "id": "e7d78d75",
   "metadata": {},
   "outputs": [
    {
     "name": "stdout",
     "output_type": "stream",
     "text": [
      "The average number of monomers when Q = 2 is : 6.3496042078727974\n",
      "The average number of monomers when Q = 4 is : 40.317473596635935\n"
     ]
    }
   ],
   "source": [
    "fxn = lambda x:np.power(x,8/3)\n",
    "for i in [2,4]:\n",
    "    print(f\"The average number of monomers when Q = {i} is : {fxn(i)}\")"
   ]
  }
 ],
 "metadata": {
  "kernelspec": {
   "display_name": "Python 3 (ipykernel)",
   "language": "python",
   "name": "python3"
  },
  "language_info": {
   "codemirror_mode": {
    "name": "ipython",
    "version": 3
   },
   "file_extension": ".py",
   "mimetype": "text/x-python",
   "name": "python",
   "nbconvert_exporter": "python",
   "pygments_lexer": "ipython3",
   "version": "3.8.13"
  }
 },
 "nbformat": 4,
 "nbformat_minor": 5
}
