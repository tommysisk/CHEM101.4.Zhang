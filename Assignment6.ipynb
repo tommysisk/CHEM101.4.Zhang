{
 "cells": [
  {
   "cell_type": "code",
   "execution_count": 6,
   "id": "02f03182",
   "metadata": {},
   "outputs": [],
   "source": [
    "import numpy as np\n",
    "import sympy as sp\n",
    "from IPython.display import display"
   ]
  },
  {
   "cell_type": "markdown",
   "id": "571d90cf",
   "metadata": {},
   "source": [
    "8.2 Consider a polymer chain represented by N = 20 beads connected by springs \n",
    "of root-mean-square size b = 5 A diffusing in a melt of similar chains with \n",
    "bead friction coefficient < = 3 x loP1\" g sP1 a t  22 \"C. \n",
    "(i) What is the root-mean-square end-to-end distance R of this chain? \n",
    "(ii) What is best model describing the dynamics of the chain in a melt? What is friction co-eff for chain?\n",
    "(iii) What is the diffusion coefficient D of the chain? \n",
    "(iv) Estimate the longest relaxation time r of the chain. \n",
    "(v) Estimate the viscosity of the melt. \n",
    "\n",
    "the friction coefficient of the chain? "
   ]
  },
  {
   "cell_type": "markdown",
   "id": "f0d8214c",
   "metadata": {},
   "source": [
    " # The best model is the Rouse Model"
   ]
  },
  {
   "cell_type": "code",
   "execution_count": 75,
   "id": "336cfdd8",
   "metadata": {},
   "outputs": [
    {
     "data": {
      "text/latex": [
       "$\\displaystyle RMS = \\left(b^{2} n\\right)^{0.5}$"
      ],
      "text/plain": [
       "Eq(RMS, (b**2*n)**0.5)"
      ]
     },
     "metadata": {},
     "output_type": "display_data"
    },
    {
     "name": "stdout",
     "output_type": "stream",
     "text": [
      "in angstrom\n"
     ]
    },
    {
     "data": {
      "text/latex": [
       "$\\displaystyle RMS = 22.3606797749979$"
      ],
      "text/plain": [
       "Eq(RMS, 22.3606797749979)"
      ]
     },
     "metadata": {},
     "output_type": "display_data"
    },
    {
     "data": {
      "text/latex": [
       "$\\displaystyle friction_{coeff} = n \\xi$"
      ],
      "text/plain": [
       "Eq(friction_coeff, n*xi)"
      ]
     },
     "metadata": {},
     "output_type": "display_data"
    },
    {
     "name": "stdout",
     "output_type": "stream",
     "text": [
      "in g/s\n"
     ]
    },
    {
     "data": {
      "text/latex": [
       "$\\displaystyle friction_{coeff} = 6.0 \\cdot 10^{-9}$"
      ],
      "text/plain": [
       "Eq(friction_coeff, 6.0e-9)"
      ]
     },
     "metadata": {},
     "output_type": "display_data"
    },
    {
     "data": {
      "text/latex": [
       "$\\displaystyle D = \\frac{T k_{B}}{n \\xi}$"
      ],
      "text/plain": [
       "Eq(D, T*k_{B}/(n*xi))"
      ]
     },
     "metadata": {},
     "output_type": "display_data"
    },
    {
     "name": "stdout",
     "output_type": "stream",
     "text": [
      "in m^2/s\n"
     ]
    },
    {
     "data": {
      "text/latex": [
       "$\\displaystyle D = 6.785 \\cdot 10^{-10}$"
      ],
      "text/plain": [
       "Eq(D, 6.785e-10)"
      ]
     },
     "metadata": {},
     "output_type": "display_data"
    },
    {
     "data": {
      "text/latex": [
       "$\\displaystyle \\tau_{R} = \\frac{RMS^{2} n \\xi}{T k_{B}}$"
      ],
      "text/plain": [
       "Eq(\\tau_{R}, RMS**2*n*xi/(T*k_{B}))"
      ]
     },
     "metadata": {},
     "output_type": "display_data"
    },
    {
     "name": "stdout",
     "output_type": "stream",
     "text": [
      "in seconds\n"
     ]
    },
    {
     "data": {
      "text/latex": [
       "$\\displaystyle \\tau_{R} = 7.36874871039057 \\cdot 10^{-9}$"
      ],
      "text/plain": [
       "Eq(\\tau_{R}, 7.36874871039057e-9)"
      ]
     },
     "metadata": {},
     "output_type": "display_data"
    },
    {
     "name": "stdout",
     "output_type": "stream",
     "text": [
      "I arrive at this expression by equating the two extressions for Khun monomer relaxation time. Here, I assume that estimate means use the equations given in the problem\n"
     ]
    },
    {
     "data": {
      "text/latex": [
       "$\\displaystyle \\eta_{s} = \\frac{\\xi}{b}$"
      ],
      "text/plain": [
       "Eq(\\eta_{s}, xi/b)"
      ]
     },
     "metadata": {},
     "output_type": "display_data"
    },
    {
     "name": "stdout",
     "output_type": "stream",
     "text": [
      "in units of g/ang*s\n"
     ]
    },
    {
     "data": {
      "text/latex": [
       "$\\displaystyle \\eta_{s} = 6.0 \\cdot 10^{-11}$"
      ],
      "text/plain": [
       "Eq(\\eta_{s}, 6.0e-11)"
      ]
     },
     "metadata": {},
     "output_type": "display_data"
    }
   ],
   "source": [
    "RMS = sp.Symbol(\"RMS\")\n",
    "n = sp.Symbol(\"n\")\n",
    "b = sp.Symbol(\"b\")\n",
    "D = sp.Symbol(\"D\")\n",
    "kb = sp.Symbol(\"k_{B}\")\n",
    "T = sp.Symbol(\"T\")\n",
    "f = sp.Symbol(r\"xi\")\n",
    "t = sp.Symbol(r\"\\tau_{R}\")\n",
    "t0 = sp.Symbol(r\"\\tau_{0}\")\n",
    "fric = sp.Symbol(\"friction_coeff\")\n",
    "eta = sp.Symbol(r\"\\eta_{s}\")\n",
    "RMS_eq = sp.Pow(n*sp.Pow(b,2), 1/2)\n",
    "display(sp.Eq(RMS,RMS_eq))\n",
    "print(\"in angstrom\")\n",
    "display(sp.Eq(RMS, RMS_eq.subs({n:20,b:5})))\n",
    "fric_eq = n*f\n",
    "display(sp.Eq(fric, fric_eq))\n",
    "print(\"in g/s\")\n",
    "display(sp.Eq(fric, fric_eq.subs({f:3e-10, n:20})))\n",
    "D_eq = (kb*T)/(n*f)\n",
    "display(sp.Eq(D,D_eq))\n",
    "print(\"in m^2/s\")\n",
    "display(sp.Eq(D,D_eq.subs({f:3e-10,kb:1.38e-23, T:22+273, n:20})*1e3))\n",
    "t_eq = (n*f*sp.Pow(RMS,2))/(kb*T)\n",
    "display(sp.Eq(t,t_eq))\n",
    "print(\"in seconds\")\n",
    "display(sp.Eq(t,t_eq.subs({f:3e-13,kb:1.38e-23, T:22+273, RMS:22.36e-10, n:20})))\n",
    "eta_eq = f/b\n",
    "print(\"I arrive at this expression by equating the two extressions for Khun monomer relaxation time\\\n",
    ". Here, I assume that estimate means use the equations given in the problem\")\n",
    "display(sp.Eq(eta,eta_eq))\n",
    "\n",
    "print(\"in units of g/ang*s\")\n",
    "display(sp.Eq(eta,eta_eq.subs({f:3e-10,b:5})))\n"
   ]
  },
  {
   "cell_type": "markdown",
   "id": "ff17c60b",
   "metadata": {},
   "source": [
    "Consider a polymer chain repregented by N = 100 beads connected by springs \n",
    "of root-mean-square size b = 5 A in a dilute 0-solution at 22.5 \"C with solvent \n",
    "viscosityqS=0.6cP=6x 10P3g(cms)P'. \n"
   ]
  },
  {
   "cell_type": "markdown",
   "id": "ffb8d4b2",
   "metadata": {},
   "source": [
    " # Best model is zimm because it is a dilute solution"
   ]
  },
  {
   "cell_type": "code",
   "execution_count": 72,
   "id": "81bdfe70",
   "metadata": {},
   "outputs": [
    {
     "data": {
      "text/latex": [
       "$\\displaystyle \\xi_{Z} = R \\eta_{s}$"
      ],
      "text/plain": [
       "Eq(\\xi_{Z}, R*\\eta_{s})"
      ]
     },
     "metadata": {},
     "output_type": "display_data"
    },
    {
     "name": "stdout",
     "output_type": "stream",
     "text": [
      "in units of g/s\n"
     ]
    },
    {
     "data": {
      "text/latex": [
       "$\\displaystyle \\xi_{Z} = 3.0 \\cdot 10^{-9}$"
      ],
      "text/plain": [
       "Eq(\\xi_{Z}, 3.0e-9)"
      ]
     },
     "metadata": {},
     "output_type": "display_data"
    },
    {
     "data": {
      "text/latex": [
       "$\\displaystyle D_{z} = \\frac{T k_{B}}{\\eta_{s} b n^{0.5}}$"
      ],
      "text/plain": [
       "Eq(D_{z}, T*k_{B}/(\\eta_{s}*b*n**0.5))"
      ]
     },
     "metadata": {},
     "output_type": "display_data"
    },
    {
     "name": "stdout",
     "output_type": "stream",
     "text": [
      "in units of m^2/s\n"
     ]
    },
    {
     "data": {
      "text/latex": [
       "$\\displaystyle D_{z} = 1.35792 \\cdot 10^{-9}$"
      ],
      "text/plain": [
       "Eq(D_{z}, 1.35792e-9)"
      ]
     },
     "metadata": {},
     "output_type": "display_data"
    },
    {
     "data": {
      "text/latex": [
       "$\\displaystyle \\tau_{z} = \\frac{\\eta_{s} b^{3} n^{1.5}}{T k_{B}}$"
      ],
      "text/plain": [
       "Eq(\\tau_{z}, \\eta_{s}*b**3*n**1.5/(T*k_{B}))"
      ]
     },
     "metadata": {},
     "output_type": "display_data"
    },
    {
     "name": "stdout",
     "output_type": "stream",
     "text": [
      "in seconds\n"
     ]
    },
    {
     "data": {
      "text/latex": [
       "$\\displaystyle \\tau_{z} = 1.84105101920584 \\cdot 10^{-8}$"
      ],
      "text/plain": [
       "Eq(\\tau_{z}, 1.84105101920584e-8)"
      ]
     },
     "metadata": {},
     "output_type": "display_data"
    },
    {
     "data": {
      "text/latex": [
       "$\\displaystyle \\eta_{sp} = \\frac{T \\phi \\tau_{z} k_{B}}{\\eta_{s} b^{3} n}$"
      ],
      "text/plain": [
       "Eq(\\eta_{sp}, T*\\phi*\\tau_{z}*k_{B}/(\\eta_{s}*b**3*n))"
      ]
     },
     "metadata": {},
     "output_type": "display_data"
    },
    {
     "data": {
      "text/latex": [
       "$\\displaystyle \\eta_{sp} = 0.99942912$"
      ],
      "text/plain": [
       "Eq(\\eta_{sp}, 0.99942912)"
      ]
     },
     "metadata": {},
     "output_type": "display_data"
    }
   ],
   "source": [
    "#R = 10*5\n",
    "etaZ = sp.Symbol(r\"\\xi_{Z}\")\n",
    "R = sp.Symbol(\"R\")\n",
    "Dz = sp.Symbol(\"D_{z}\")\n",
    "tz = sp.Symbol(r\"\\tau_{z}\")\n",
    "etaZ_eq = eta*R\n",
    "phi = sp.Symbol(r\"\\phi\")\n",
    "eta_sp = sp.Symbol(r\"\\eta_{sp}\")\n",
    "display(sp.Eq(etaZ,etaZ_eq))\n",
    "print(\"in units of g/s\")\n",
    "display(sp.Eq(etaZ,etaZ_eq.subs({R:50,eta:6e-11})))\n",
    "Dz_eq = (kb*T)/(eta*b*sp.Pow(n,1/2))\n",
    "display(sp.Eq(Dz,Dz_eq))\n",
    "print(\"in units of m^2/s\")\n",
    "display(sp.Eq(Dz,Dz_eq.subs({T:22.2+273,kb:1.38e-23,eta:6e-4, b:5e-10,n:100})))\n",
    "tz_eq = (eta*sp.Pow(b,3)*sp.Pow(n,3/2))/(kb*T)\n",
    "display(sp.Eq(tz,tz_eq))\n",
    "print(\"in seconds\")\n",
    "display(sp.Eq(tz,tz_eq.subs({eta:6e-4,n:100,b:5e-10,T:22.2+273,kb:1.38e-23})))\n",
    "eta_sp_eq = (kb*T*phi*tz)/(n*sp.Pow(b,3)*eta)\n",
    "display(sp.Eq(eta_sp,eta_sp_eq))\n",
    "display(sp.Eq(eta_sp,eta_sp_eq.subs({eta:6e-4,n:100,b:5e-10,kb:1.38e-23,T:22.2+273,tz:1.84e-8,phi:0.1})))"
   ]
  },
  {
   "cell_type": "markdown",
   "id": "944323af",
   "metadata": {},
   "source": [
    "What is the physical reason that the 2/3 exponent in Eq. (8.70) for sub- \n",
    "diffusive Zimm motion is independent of solvent quality? \n"
   ]
  },
  {
   "cell_type": "markdown",
   "id": "7fd60971",
   "metadata": {},
   "source": [
    " # Sub-diffusive motion of monomers is independent of solvent quality in the Zimm model because, in the zimm model, the entire polymer moves through solution like a stokes sphere with size proportional to the pervaded volume of the polymer. In this model, the stokes sphere drags the solvent with it and as a result, the motion of a single monomer is independent of the solvent quality because the time scale of the motion of the stokes sphere is much larger than that of a single monomer."
   ]
  },
  {
   "cell_type": "code",
   "execution_count": null,
   "id": "73f9ae21",
   "metadata": {},
   "outputs": [],
   "source": []
  }
 ],
 "metadata": {
  "kernelspec": {
   "display_name": "Python 3 (ipykernel)",
   "language": "python",
   "name": "python3"
  },
  "language_info": {
   "codemirror_mode": {
    "name": "ipython",
    "version": 3
   },
   "file_extension": ".py",
   "mimetype": "text/x-python",
   "name": "python",
   "nbconvert_exporter": "python",
   "pygments_lexer": "ipython3",
   "version": "3.8.0"
  }
 },
 "nbformat": 4,
 "nbformat_minor": 5
}
